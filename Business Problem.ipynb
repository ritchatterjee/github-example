{
 "cells": [
  {
   "cell_type": "markdown",
   "metadata": {},
   "source": [
    "<h1> Business Problem </h1>"
   ]
  },
  {
   "cell_type": "markdown",
   "metadata": {},
   "source": [
    "In Barcelona, there are numerous districts or ‘barrios’ as it is called in the Spanish language. This city is famous for various touristic attraction, its one of the most visited places on Earth and rightfully so. Not only tourists but many students come here to study various graduate programs offered by some of the best universities. Hence, every year Erasmus students come for exchange programs in universities spread across Barcelona. Same is true for many people coming for short stays for internships etc. For them, its important to find a good place to live, a house which is located close not only to basic amenities but also other factors, like for ex., library, bar etc.\n",
    "/n\n",
    "\n",
    "‘A’ is coming to Barcelona this month as an exchange student at University of Barcelona. ‘A’ is studying history as a masters degree. ‘A’ is very culturally oriented and is interested in knowing the culture of the city, language, food etc. Since, he is a student he doe snot intend to pay a lot of money for rent but at the same time he is interested in living in neighborhood which is culturally vibrant and has more local shops than tourist attractions. His argument is that he can visit the touristic spots in his spare time over a long period of time, so it does not matter to him if they are near or far from his home. However, he would be glad that if he finds a room in a house which has more local spots near it.\n",
    "\n",
    "\n",
    "So, the business problem stands at finding a solution for the house renting apps which only show the rent average for each barrios. Instead we will use the data of rents and the livability of each neighborhood in Barcelona, clustered and compared which will be used by potential users to decide their right place to live. It will improve better recommendation systems and will help increase usage of house renting apps. Because, sometimes is not only the rent but other factors do influence choosing the right house (apart from the regular factors like, room type, house type, flatmates etc.)"
   ]
  },
  {
   "cell_type": "code",
   "execution_count": null,
   "metadata": {},
   "outputs": [],
   "source": []
  }
 ],
 "metadata": {
  "kernelspec": {
   "display_name": "Python 3",
   "language": "python",
   "name": "python3"
  },
  "language_info": {
   "codemirror_mode": {
    "name": "ipython",
    "version": 3
   },
   "file_extension": ".py",
   "mimetype": "text/x-python",
   "name": "python",
   "nbconvert_exporter": "python",
   "pygments_lexer": "ipython3",
   "version": "3.7.4"
  }
 },
 "nbformat": 4,
 "nbformat_minor": 2
}
